{
 "cells": [
  {
   "cell_type": "markdown",
   "id": "vocational-particle",
   "metadata": {},
   "source": [
    "https://arxiv.org/abs/2004.11362"
   ]
  },
  {
   "cell_type": "code",
   "execution_count": null,
   "id": "constant-friday",
   "metadata": {},
   "outputs": [],
   "source": [
    "import numpy as np\n",
    "import torch"
   ]
  },
  {
   "cell_type": "code",
   "execution_count": null,
   "id": "minus-decision",
   "metadata": {},
   "outputs": [],
   "source": [
    "class SCL_out(torch.nn.Module):\n",
    "    def __init__(self, temp=1.):\n",
    "        super().__init__()\n",
    "        self.temp = temp\n",
    "    \n",
    "    def forward(self, y_pred, y_true):\n",
    "        ran = np.arange(y_pred.shape[0])\n",
    "        loss = 0.\n",
    "        for i, anchor in enumerate(y_pred):\n",
    "            class_loss = 0.\n",
    "            \n",
    "            prob = (y_true == y_true[i]).sum()\n",
    "            for j, other in enumerate(y_pred):\n",
    "                if i != j and y_true[i] == y_true[j]:\n",
    "                    A_i = y_pred[~np.isin(ran, [i, j])]\n",
    "                    denum = torch.log(torch.exp(A_i @ anchor / self.temp).sum())\n",
    "                    class_loss += (denum - other.T @ anchor / self.temp)\n",
    "            class_loss /= prob\n",
    "            loss += class_loss\n",
    "        return loss"
   ]
  },
  {
   "cell_type": "code",
   "execution_count": null,
   "id": "received-touch",
   "metadata": {},
   "outputs": [],
   "source": [
    "class SCL_in(torch.nn.Module):\n",
    "    def __init__(self, temp=1.):\n",
    "        super().__init__()\n",
    "        self.temp = temp\n",
    "    \n",
    "    def forward(self, y_pred, y_true):\n",
    "        ran = np.arange(y_pred.shape[0])\n",
    "        loss = 0.\n",
    "        for i, anchor in enumerate(y_pred):\n",
    "            class_loss = 0.\n",
    "            prob = (y_true == y_true[i]).sum()\n",
    "            for j, pos in enumerate(y_pred):\n",
    "                if i != j and y_true[i] == y_true[j]:\n",
    "                    A_i = y_pred[~np.isin(ran, [i, j])]\n",
    "                    denum = torch.exp(A_i @ anchor / self.temp).sum()\n",
    "                    num = torch.exp(torch.dot(pos, anchor) / self.temp)\n",
    "                    class_loss += num / denum\n",
    "            loss += torch.log(prob / class_loss)\n",
    "        return loss"
   ]
  },
  {
   "cell_type": "code",
   "execution_count": null,
   "id": "amber-carpet",
   "metadata": {},
   "outputs": [],
   "source": [
    "class SSCL(torch.nn.Module):\n",
    "    def __init__(self, temp=1.):\n",
    "        super().__init__()\n",
    "        self.temp = temp\n",
    "    \n",
    "    def forward(self, y_pred, y_true, mapper):\n",
    "        ran = np.arange(y_pred.shape[0])\n",
    "        loss = 0.\n",
    "        for i, anchor in enumerate(y_pred):\n",
    "            pos = y_pred[mapper[i]]\n",
    "            A_i = y_pred[~np.isin(ran, [i, mapper[i]])]\n",
    "            denum = torch.log(torch.exp(A_i @ anchor / self.temp).sum())\n",
    "            loss += (denum - torch.dot(pos, anchor) / self.temp)\n",
    "        return loss"
   ]
  },
  {
   "cell_type": "code",
   "execution_count": null,
   "id": "secret-discipline",
   "metadata": {},
   "outputs": [],
   "source": []
  }
 ],
 "metadata": {
  "kernelspec": {
   "display_name": "tldl",
   "language": "python",
   "name": "tldl"
  },
  "language_info": {
   "codemirror_mode": {
    "name": "ipython",
    "version": 3
   },
   "file_extension": ".py",
   "mimetype": "text/x-python",
   "name": "python",
   "nbconvert_exporter": "python",
   "pygments_lexer": "ipython3",
   "version": "3.8.10"
  }
 },
 "nbformat": 4,
 "nbformat_minor": 5
}
